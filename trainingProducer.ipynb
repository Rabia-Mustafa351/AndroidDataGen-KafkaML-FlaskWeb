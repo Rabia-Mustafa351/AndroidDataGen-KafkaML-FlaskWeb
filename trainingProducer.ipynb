{
 "cells": [
  {
   "cell_type": "code",
   "execution_count": 6,
   "metadata": {},
   "outputs": [
    {
     "name": "stdout",
     "output_type": "stream",
     "text": [
      "collecting DAta For Training\n",
      "Done Sending..\n"
     ]
    }
   ],
   "source": [
    "import json\n",
    "import time\n",
    "import pandas as pd\n",
    "from kafka import KafkaProducer\n",
    "\n",
    "KAFKA_TOPIC = \"Training\"\n",
    "producer = KafkaProducer(bootstrap_servers=\"localhost:9092\")\n",
    "print(\"collecting DAta For Training\")\n",
    "\n",
    "#Standing Data\n",
    "df = pd.read_csv('/home/rabia/Downloads/Standing.csv')\n",
    "df.columns = [\"x\", \"y\", \"z\", \"X1\",\"Y1\",\"Z1\"]\n",
    "df['label'] = \"Standing\"\n",
    "df=df[ ['x','y','z','label']]                  \n",
    "\n",
    "# Walking \n",
    "df1= pd.read_csv('/home/rabia/Downloads/Walking.csv')\n",
    "df1.columns = [\"x\", \"y\", \"z\", \"X1\",\"Y1\",\"Z1\"]\n",
    "df1['label'] = \"Walking\"\n",
    "df1=df1[ ['x','y','z','label']]                   # Select remaining column\n",
    "df1\n",
    "\n",
    "#Runing \n",
    "df2 = pd.read_csv('/home/rabia/Downloads/Running.csv')\n",
    "df2.columns = [\"x\", \"y\", \"z\", \"X1\",\"Y1\",\"Z1\"]\n",
    "df2['label'] = \"Running\"\n",
    "df2=df2[ ['x','y','z','label']]                   # Select remaining column\n",
    "df2\n",
    "\n",
    "# Phone in use\n",
    "df3 = pd.read_csv('/home/rabia/Downloads/Phone in Use.csv')\n",
    "df3.columns = [\"x\", \"y\", \"z\", \"X1\",\"Y1\",\"Z1\"]\n",
    "df3['label']=\"Phone in Use\"   \n",
    "df3=df3[ ['x','y','z','label']]                   # Select remaining column\n",
    "df3\n",
    "\n",
    "#Not with me\n",
    "df4 = pd.read_csv('/home/rabia/Downloads/Not With Me.csv')\n",
    "df4.columns = [\"x\", \"y\", \"z\", \"X1\",\"Y1\",\"Z1\"]\n",
    "df4['label']=\"Not With Me\"\n",
    "df4=df4[ ['x','y','z','label']]                   # Select remaining column\n",
    "df4\n",
    "\n",
    "#appending all the data frames\n",
    "vertical_concat = pd.concat([df,df1, df2,df3,df4], axis=0)\n",
    "\n",
    "# converting Data Frame Into Dictionaries\n",
    "vertical_concat.reset_index(inplace=False)\n",
    "listOfDic = vertical_concat.to_dict(\"records\")\n",
    "\n",
    "\n",
    "producer.send(\"Training\", json.dumps(listOfDic).encode(\"utf-8\"))\n",
    "print(\"Done Sending..\")"
   ]
  },
  {
   "cell_type": "code",
   "execution_count": null,
   "metadata": {
    "scrolled": false
   },
   "outputs": [],
   "source": []
  },
  {
   "cell_type": "code",
   "execution_count": null,
   "metadata": {},
   "outputs": [],
   "source": []
  }
 ],
 "metadata": {
  "kernelspec": {
   "display_name": "Python 3 (ipykernel)",
   "language": "python",
   "name": "python3"
  },
  "language_info": {
   "codemirror_mode": {
    "name": "ipython",
    "version": 3
   },
   "file_extension": ".py",
   "mimetype": "text/x-python",
   "name": "python",
   "nbconvert_exporter": "python",
   "pygments_lexer": "ipython3",
   "version": "3.8.10"
  }
 },
 "nbformat": 4,
 "nbformat_minor": 4
}
