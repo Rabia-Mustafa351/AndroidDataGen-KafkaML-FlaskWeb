{
 "cells": [
  {
   "cell_type": "code",
   "execution_count": 32,
   "id": "df8acdd7",
   "metadata": {},
   "outputs": [
    {
     "name": "stdout",
     "output_type": "stream",
     "text": [
      "<Response [200]>\n"
     ]
    },
    {
     "data": {
      "text/plain": [
       "<kafka.producer.future.FutureRecordMetadata at 0x7f7d6008f940>"
      ]
     },
     "execution_count": 32,
     "metadata": {},
     "output_type": "execute_result"
    }
   ],
   "source": [
    "import json\n",
    "import time\n",
    "from kafka import KafkaProducer\n",
    "import requests\n",
    "import json\n",
    "url = 'http://3.128.132.194:6000/accelrometer/getlastone'\n",
    "myobj = {\"groupname\":\"RabiaNeha\"}\n",
    "response_API = requests.post(url, json = myobj)\n",
    "print(response_API)\n",
    "data = response_API.json()\n",
    "a1=data.get('items')\n",
    "activitygetter=a1[0].get('label')\n",
    "xstore=a1[0].get('x1')\n",
    "ystore=a1[0].get('y1')\n",
    "zstore=a1[0].get('z1')\n",
    "xstore=float(xstore)\n",
    "ystore=float(ystore)\n",
    "zstore=float(zstore)\n",
    "KAFKA_TOPIC = \"Sensors\"\n",
    "producer = KafkaProducer(bootstrap_servers=\"localhost:9092\")\n",
    "data = {\"x\": xstore , \"y\": ystore, \"z\": zstore }\n",
    "producer.send(\"Sensors\",json.dumps(data).encode('utf-8'))\n"
   ]
  },
  {
   "cell_type": "code",
   "execution_count": null,
   "id": "91b0d081",
   "metadata": {},
   "outputs": [],
   "source": []
  }
 ],
 "metadata": {
  "kernelspec": {
   "display_name": "Python 3 (ipykernel)",
   "language": "python",
   "name": "python3"
  },
  "language_info": {
   "codemirror_mode": {
    "name": "ipython",
    "version": 3
   },
   "file_extension": ".py",
   "mimetype": "text/x-python",
   "name": "python",
   "nbconvert_exporter": "python",
   "pygments_lexer": "ipython3",
   "version": "3.8.10"
  }
 },
 "nbformat": 4,
 "nbformat_minor": 5
}
