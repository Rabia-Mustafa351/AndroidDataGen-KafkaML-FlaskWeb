{
 "cells": [
  {
   "cell_type": "code",
   "execution_count": 1,
   "id": "85084d85",
   "metadata": {},
   "outputs": [],
   "source": [
    "import json\n",
    "import time\n",
    "import pickle\n",
    "from flask import Flask ,render_template\n",
    "from kafka import KafkaConsumer\n",
    "import requests\n",
    "import json\n",
    "import os\n",
    "from unicodedata import name\n",
    "import pandas as pd\n",
    "import os\n",
    "import pymongo"
   ]
  },
  {
   "cell_type": "code",
   "execution_count": 4,
   "id": "c5132cb1",
   "metadata": {},
   "outputs": [
    {
     "name": "stdout",
     "output_type": "stream",
     "text": [
      "listening\n",
      "Consumer is Runing\n"
     ]
    },
    {
     "ename": "ValueError",
     "evalue": "invalid mode: 'finalized_model.sav'",
     "output_type": "error",
     "traceback": [
      "\u001b[0;31m---------------------------------------------------------------------------\u001b[0m",
      "\u001b[0;31mValueError\u001b[0m                                Traceback (most recent call last)",
      "Input \u001b[0;32mIn [4]\u001b[0m, in \u001b[0;36m<cell line: 10>\u001b[0;34m()\u001b[0m\n\u001b[1;32m     12\u001b[0m data\u001b[38;5;241m=\u001b[39mjson\u001b[38;5;241m.\u001b[39mloads(message\u001b[38;5;241m.\u001b[39mvalue)\n\u001b[1;32m     13\u001b[0m filename \u001b[38;5;241m=\u001b[39m \u001b[38;5;124m'\u001b[39m\u001b[38;5;124mfinalized_model.sav\u001b[39m\u001b[38;5;124m'\u001b[39m   \u001b[38;5;66;03m#KNN model because it gives more Accuracy\u001b[39;00m\n\u001b[0;32m---> 14\u001b[0m loaded_model1 \u001b[38;5;241m=\u001b[39m pickle\u001b[38;5;241m.\u001b[39mload(\u001b[38;5;28;43mopen\u001b[39;49m\u001b[43m(\u001b[49m\u001b[43mfilename\u001b[49m\u001b[43m,\u001b[49m\u001b[43m \u001b[49m\u001b[38;5;124;43m'\u001b[39;49m\u001b[38;5;124;43mfinalized_model.sav\u001b[39;49m\u001b[38;5;124;43m'\u001b[39;49m\u001b[43m)\u001b[49m)\n\u001b[1;32m     15\u001b[0m val\u001b[38;5;241m=\u001b[39mloaded_model1\u001b[38;5;241m.\u001b[39mpredict([[data[\u001b[38;5;124m'\u001b[39m\u001b[38;5;124mx\u001b[39m\u001b[38;5;124m'\u001b[39m],data[\u001b[38;5;124m'\u001b[39m\u001b[38;5;124my\u001b[39m\u001b[38;5;124m'\u001b[39m],data[\u001b[38;5;124m'\u001b[39m\u001b[38;5;124mz\u001b[39m\u001b[38;5;124m'\u001b[39m]]])\n\u001b[1;32m     16\u001b[0m xstore\u001b[38;5;241m=\u001b[39mdata[\u001b[38;5;124m'\u001b[39m\u001b[38;5;124mx\u001b[39m\u001b[38;5;124m'\u001b[39m]\n",
      "\u001b[0;31mValueError\u001b[0m: invalid mode: 'finalized_model.sav'"
     ]
    }
   ],
   "source": [
    "consumer = KafkaConsumer('Sensors', bootstrap_servers='localhost:9092')\n",
    "print(\"listening\")\n",
    "labels={'Running':0,'Walking':1, 'Standing':2,'Not With Me':3,'Phone in Use':4}   #\n",
    "labelge=\"\"\n",
    "xstore=\"\"\n",
    "ystore=\"\"\n",
    "zstore=\"\"\n",
    "group=\"INDISPENSABLE\"\n",
    "picr = os.path.join('static', 'images')\n",
    "for message in consumer:\n",
    "    print(\"Consumer is Runing\")\n",
    "    data=json.loads(message.value)\n",
    "    filename = 'finalized_model.sav'   #KNN model because it gives more Accuracy\n",
    "    loaded_model1 = pickle.load(open(filename, 'finalized_model.sav'))\n",
    "    val=loaded_model1.predict([[data['x'],data['y'],data['z']]])\n",
    "    xstore=data['x']\n",
    "    ystore=data['y']\n",
    "    zstore=data['z']\n",
    "    if val==[0]:\n",
    "        labelge=\"Running\"\n",
    "        print(\"Running\")\n",
    "    elif val==[1]:\n",
    "        labelge=\"Walking\"\n",
    "        print(\"Walking\")\n",
    "    elif val==[2]:\n",
    "        labelge=\"Standing\"\n",
    "        print(\"Standing\")\n",
    "    elif val==[3]:\n",
    "        labelge=\"Not With Me\" \n",
    "        print(\"Not With Me\")\n",
    "    elif val==[4]:\n",
    "        labelge=\"Phone in Use\"\n",
    "        print(\"Phone in Use\")\n",
    "    app = Flask(__name__)\n",
    "    app.config['UPLOAD_FOLDER'] = picr\n",
    "    @app.route('/')\n",
    "    def index():\n",
    "        img1 = os.path.join(app.config['UPLOAD_FOLDER'], '1900x1000.jpg')\n",
    "        img2 = os.path.join(app.config['UPLOAD_FOLDER'], 'download.jpg')\n",
    "        img3 = os.path.join(app.config['UPLOAD_FOLDER'], 'favicon-32x32.png')\n",
    "        img4 = os.path.join(app.config['UPLOAD_FOLDER'], 'favicon-16x16.png')\n",
    "        img5 = os.path.join(app.config['UPLOAD_FOLDER'], 'icon.png')\n",
    "\n",
    "        return render_template('index.html',image44=img5,image3 = img1,image2 = img2,image4=img3,image5=img4,xaxis=xstore,yaxis=ystore,zaxis=zstore,activity1=activitygetter,groupname=group)\n",
    "    if __name__ == '__main__':\n",
    "        app.run()"
   ]
  },
  {
   "cell_type": "code",
   "execution_count": 5,
   "id": "57d41b78",
   "metadata": {},
   "outputs": [
    {
     "name": "stdout",
     "output_type": "stream",
     "text": [
      "Defaulting to user installation because normal site-packages is not writeable\n",
      "Collecting sklearn\n",
      "  Using cached sklearn-0.0.tar.gz (1.1 kB)\n",
      "  Preparing metadata (setup.py) ... \u001b[?25ldone\n",
      "\u001b[?25hCollecting scikit-learn\n",
      "  Downloading scikit_learn-1.1.1-cp38-cp38-manylinux_2_17_x86_64.manylinux2014_x86_64.whl (31.2 MB)\n",
      "\u001b[2K     \u001b[38;2;114;156;31m━━━━━━━━━━━━━━━━━━━━━━━━━━━━━━━━━━━━━━━━\u001b[0m \u001b[32m31.2/31.2 MB\u001b[0m \u001b[31m1.3 MB/s\u001b[0m eta \u001b[36m0:00:00\u001b[0mm eta \u001b[36m0:00:01\u001b[0m[36m0:00:01\u001b[0mm\n",
      "\u001b[?25hCollecting threadpoolctl>=2.0.0\n",
      "  Downloading threadpoolctl-3.1.0-py3-none-any.whl (14 kB)\n",
      "Requirement already satisfied: numpy>=1.17.3 in ./.local/lib/python3.8/site-packages (from scikit-learn->sklearn) (1.22.3)\n",
      "Collecting scipy>=1.3.2\n",
      "  Downloading scipy-1.8.1-cp38-cp38-manylinux_2_17_x86_64.manylinux2014_x86_64.whl (41.6 MB)\n",
      "\u001b[2K     \u001b[38;2;114;156;31m━━━━━━━━━━━━━━━━━━━━━━━━━━━━━━━━━━━━━━━\u001b[0m \u001b[32m41.6/41.6 MB\u001b[0m \u001b[31m552.5 kB/s\u001b[0m eta \u001b[36m0:00:00\u001b[0mm eta \u001b[36m0:00:01\u001b[0m[36m0:00:02\u001b[0m\n",
      "\u001b[?25hCollecting joblib>=1.0.0\n",
      "  Downloading joblib-1.1.0-py2.py3-none-any.whl (306 kB)\n",
      "\u001b[2K     \u001b[38;2;114;156;31m━━━━━━━━━━━━━━━━━━━━━━━━━━━━━━━━━━━━━\u001b[0m \u001b[32m307.0/307.0 KB\u001b[0m \u001b[31m408.6 kB/s\u001b[0m eta \u001b[36m0:00:00\u001b[0m kB/s\u001b[0m eta \u001b[36m0:00:01\u001b[0m:01\u001b[0m\n",
      "\u001b[?25hBuilding wheels for collected packages: sklearn\n",
      "  Building wheel for sklearn (setup.py) ... \u001b[?25ldone\n",
      "\u001b[?25h  Created wheel for sklearn: filename=sklearn-0.0-py2.py3-none-any.whl size=1315 sha256=df440a09a3e498021d751a6fed50b00bdcd8eca7c6804924a228c2bddbdad1ef\n",
      "  Stored in directory: /home/muhammadahsan/.cache/pip/wheels/22/0b/40/fd3f795caaa1fb4c6cb738bc1f56100be1e57da95849bfc897\n",
      "Successfully built sklearn\n",
      "Installing collected packages: threadpoolctl, scipy, joblib, scikit-learn, sklearn\n",
      "Successfully installed joblib-1.1.0 scikit-learn-1.1.1 scipy-1.8.1 sklearn-0.0 threadpoolctl-3.1.0\n",
      "\u001b[33mWARNING: You are using pip version 22.0.4; however, version 22.1.2 is available.\n",
      "You should consider upgrading via the '/usr/bin/python3 -m pip install --upgrade pip' command.\u001b[0m\u001b[33m\n",
      "\u001b[0mNote: you may need to restart the kernel to use updated packages.\n"
     ]
    }
   ],
   "source": [
    "pip install sklearn"
   ]
  },
  {
   "cell_type": "code",
   "execution_count": null,
   "id": "0a7aa6e1",
   "metadata": {},
   "outputs": [],
   "source": []
  }
 ],
 "metadata": {
  "kernelspec": {
   "display_name": "Python 3 (ipykernel)",
   "language": "python",
   "name": "python3"
  },
  "language_info": {
   "codemirror_mode": {
    "name": "ipython",
    "version": 3
   },
   "file_extension": ".py",
   "mimetype": "text/x-python",
   "name": "python",
   "nbconvert_exporter": "python",
   "pygments_lexer": "ipython3",
   "version": "3.8.10"
  }
 },
 "nbformat": 4,
 "nbformat_minor": 5
}
